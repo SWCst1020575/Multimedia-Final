{
 "cells": [
  {
   "cell_type": "code",
   "execution_count": 1,
   "metadata": {},
   "outputs": [
    {
     "name": "stderr",
     "output_type": "stream",
     "text": [
      "/home/swc/multimedia/venv/lib/python3.8/site-packages/tqdm/auto.py:21: TqdmWarning: IProgress not found. Please update jupyter and ipywidgets. See https://ipywidgets.readthedocs.io/en/stable/user_install.html\n",
      "  from .autonotebook import tqdm as notebook_tqdm\n"
     ]
    }
   ],
   "source": [
    "from PIL import Image\n",
    "from torch.utils.data import DataLoader\n",
    "from transformers import CLIPProcessor, CLIPTextModel, CLIPTokenizer, CLIPVisionModel,CLIPModel,CLIPConfig\n",
    "import os\n",
    "import torch\n",
    "from tqdm import tqdm\n",
    "import numpy as np"
   ]
  },
  {
   "cell_type": "code",
   "execution_count": 2,
   "metadata": {},
   "outputs": [],
   "source": [
    "device = \"cuda\" if torch.cuda.is_available() else \"cpu\""
   ]
  },
  {
   "cell_type": "code",
   "execution_count": 3,
   "metadata": {},
   "outputs": [],
   "source": [
    "base_model = \"laion/CLIP-ViT-H-14-laion2B-s32B-b79K\"\n",
    "model = CLIPModel.from_pretrained(\n",
    "    \"output_model/epoch_1\", torch_dtype=torch.float16\n",
    ").to(device)\n",
    "# 使用pretrained\n",
    "# model = CLIPModel.from_pretrained(\n",
    "#     base_model, torch_dtype=torch.float16\n",
    "# ).to(device) \n",
    "processor = CLIPProcessor.from_pretrained(\n",
    "    base_model, torch_dtype=torch.float16\n",
    ")\n",
    "model.eval()\n",
    "model_vision = model.vision_model\n",
    "visual_projection = model.visual_projection\n",
    "model_text = model.text_model\n",
    "text_projection = model.text_projection\n",
    "\n",
    "cos = torch.nn.CosineSimilarity()\n"
   ]
  },
  {
   "cell_type": "code",
   "execution_count": 4,
   "metadata": {},
   "outputs": [
    {
     "name": "stderr",
     "output_type": "stream",
     "text": [
      "100%|██████████| 10/10 [00:31<00:00,  3.16s/it]\n"
     ]
    }
   ],
   "source": [
    "path =\"topic2_release/test\"\n",
    "animal_type = os.listdir(path)\n",
    "animal_type.sort()\n",
    "animal_type_prefix = [f\"a photo of {animal}\" for animal in animal_type]\n",
    "images_test = []\n",
    "images_pil_list = []\n",
    "for i in tqdm(range(len(animal_type))):\n",
    "    animal = animal_type[i]\n",
    "    image_list = os.listdir(f\"{path}/{animal}\")\n",
    "    image_list.sort()\n",
    "    images = [Image.open(f\"{path}/{animal}/{file}\") for file in image_list]\n",
    "    images_pil_list.extend(images)\n",
    "    inputs = processor(\n",
    "        text=animal_type_prefix,\n",
    "        images=images,\n",
    "        return_tensors=\"pt\",\n",
    "        padding=True,\n",
    "    )\n",
    "    for i in range(0,inputs[\"pixel_values\"].shape[0],10):\n",
    "        pixel_values = inputs[\"pixel_values\"][i:i+10].to(device)\n",
    "        images = model_vision(pixel_values=pixel_values)\n",
    "        images_test.append(visual_projection(images.pooler_output).cpu().detach())\n",
    "images_test = torch.cat(images_test)"
   ]
  },
  {
   "cell_type": "code",
   "execution_count": 6,
   "metadata": {},
   "outputs": [],
   "source": [
    "database = []\n",
    "query = []\n",
    "for i in range(0, 1000, 100):\n",
    "    database.append(images_test[i : i + 30])\n",
    "    query.append(images_test[i + 30 : i + 100])\n",
    "database = torch.cat(database)\n",
    "query = torch.cat(query)"
   ]
  },
  {
   "cell_type": "code",
   "execution_count": 56,
   "metadata": {},
   "outputs": [],
   "source": [
    "precision_list = []\n",
    "recall_list = []\n",
    "for i in range(10):\n",
    "    for j in range(70):\n",
    "        top_num = 30\n",
    "        result = cos(query[i * 70 + j].unsqueeze(0), database).topk(top_num)\n",
    "        retrieved_num = top_num\n",
    "        retrieved_num_true = ((result.indices // 30) == i).sum()\n",
    "        precision = retrieved_num_true / retrieved_num\n",
    "        recall = retrieved_num_true / 30\n",
    "        precision_list.append(precision.item())\n",
    "        recall_list.append(recall.item())"
   ]
  },
  {
   "cell_type": "code",
   "execution_count": 57,
   "metadata": {},
   "outputs": [
    {
     "data": {
      "text/plain": [
       "[0.9628571186746869,\n",
       " 0.9928571428571429,\n",
       " 0.9895238097224917,\n",
       " 0.9899999993188041,\n",
       " 0.9995238091264452,\n",
       " 0.9980952365057809,\n",
       " 0.9933333277702332,\n",
       " 0.9895238058907645,\n",
       " 0.9919047577040536,\n",
       " 0.997619047335216]"
      ]
     },
     "execution_count": 57,
     "metadata": {},
     "output_type": "execute_result"
    }
   ],
   "source": [
    "[np.array(precision_list[i:i+70]).mean() for i in range(0,700,70)]"
   ]
  },
  {
   "cell_type": "code",
   "execution_count": 58,
   "metadata": {},
   "outputs": [
    {
     "data": {
      "text/plain": [
       "[0.9628571186746869,\n",
       " 0.9928571428571429,\n",
       " 0.9895238097224917,\n",
       " 0.9899999993188041,\n",
       " 0.9995238091264452,\n",
       " 0.9980952365057809,\n",
       " 0.9933333277702332,\n",
       " 0.9895238058907645,\n",
       " 0.9919047577040536,\n",
       " 0.997619047335216]"
      ]
     },
     "execution_count": 58,
     "metadata": {},
     "output_type": "execute_result"
    }
   ],
   "source": [
    "[np.array(recall_list[i:i+70]).mean() for i in range(0,700,70)]"
   ]
  },
  {
   "cell_type": "code",
   "execution_count": 24,
   "metadata": {},
   "outputs": [
    {
     "data": {
      "text/plain": [
       "CLIPModel(\n",
       "  (text_model): CLIPTextTransformer(\n",
       "    (embeddings): CLIPTextEmbeddings(\n",
       "      (token_embedding): Embedding(49408, 1024)\n",
       "      (position_embedding): Embedding(77, 1024)\n",
       "    )\n",
       "    (encoder): CLIPEncoder(\n",
       "      (layers): ModuleList(\n",
       "        (0-23): 24 x CLIPEncoderLayer(\n",
       "          (self_attn): CLIPAttention(\n",
       "            (k_proj): Linear(in_features=1024, out_features=1024, bias=True)\n",
       "            (v_proj): Linear(in_features=1024, out_features=1024, bias=True)\n",
       "            (q_proj): Linear(in_features=1024, out_features=1024, bias=True)\n",
       "            (out_proj): Linear(in_features=1024, out_features=1024, bias=True)\n",
       "          )\n",
       "          (layer_norm1): LayerNorm((1024,), eps=1e-05, elementwise_affine=True)\n",
       "          (mlp): CLIPMLP(\n",
       "            (activation_fn): GELUActivation()\n",
       "            (fc1): Linear(in_features=1024, out_features=4096, bias=True)\n",
       "            (fc2): Linear(in_features=4096, out_features=1024, bias=True)\n",
       "          )\n",
       "          (layer_norm2): LayerNorm((1024,), eps=1e-05, elementwise_affine=True)\n",
       "        )\n",
       "      )\n",
       "    )\n",
       "    (final_layer_norm): LayerNorm((1024,), eps=1e-05, elementwise_affine=True)\n",
       "  )\n",
       "  (vision_model): CLIPVisionTransformer(\n",
       "    (embeddings): CLIPVisionEmbeddings(\n",
       "      (patch_embedding): Conv2d(3, 1280, kernel_size=(14, 14), stride=(14, 14), bias=False)\n",
       "      (position_embedding): Embedding(257, 1280)\n",
       "    )\n",
       "    (pre_layrnorm): LayerNorm((1280,), eps=1e-05, elementwise_affine=True)\n",
       "    (encoder): CLIPEncoder(\n",
       "      (layers): ModuleList(\n",
       "        (0-31): 32 x CLIPEncoderLayer(\n",
       "          (self_attn): CLIPAttention(\n",
       "            (k_proj): Linear(in_features=1280, out_features=1280, bias=True)\n",
       "            (v_proj): Linear(in_features=1280, out_features=1280, bias=True)\n",
       "            (q_proj): Linear(in_features=1280, out_features=1280, bias=True)\n",
       "            (out_proj): Linear(in_features=1280, out_features=1280, bias=True)\n",
       "          )\n",
       "          (layer_norm1): LayerNorm((1280,), eps=1e-05, elementwise_affine=True)\n",
       "          (mlp): CLIPMLP(\n",
       "            (activation_fn): GELUActivation()\n",
       "            (fc1): Linear(in_features=1280, out_features=5120, bias=True)\n",
       "            (fc2): Linear(in_features=5120, out_features=1280, bias=True)\n",
       "          )\n",
       "          (layer_norm2): LayerNorm((1280,), eps=1e-05, elementwise_affine=True)\n",
       "        )\n",
       "      )\n",
       "    )\n",
       "    (post_layernorm): LayerNorm((1280,), eps=1e-05, elementwise_affine=True)\n",
       "  )\n",
       "  (visual_projection): Linear(in_features=1280, out_features=1024, bias=False)\n",
       "  (text_projection): Linear(in_features=1024, out_features=1024, bias=False)\n",
       ")"
      ]
     },
     "execution_count": 24,
     "metadata": {},
     "output_type": "execute_result"
    }
   ],
   "source": [
    "model"
   ]
  }
 ],
 "metadata": {
  "kernelspec": {
   "display_name": "venv",
   "language": "python",
   "name": "python3"
  },
  "language_info": {
   "codemirror_mode": {
    "name": "ipython",
    "version": 3
   },
   "file_extension": ".py",
   "mimetype": "text/x-python",
   "name": "python",
   "nbconvert_exporter": "python",
   "pygments_lexer": "ipython3",
   "version": "3.8.18"
  }
 },
 "nbformat": 4,
 "nbformat_minor": 2
}
